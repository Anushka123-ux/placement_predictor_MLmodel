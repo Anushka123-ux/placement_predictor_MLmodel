{
 "cells": [
  {
   "cell_type": "code",
   "execution_count": null,
   "id": "bcaa05e9-838b-4ea1-a283-83aa9002e08d",
   "metadata": {},
   "outputs": [],
   "source": [
    "# Placement Predictor App\n",
    "\n",
    "\"\"\"This project predicts whether a student will get placed or not based on three features. \n",
    "We use Logistic Regression for binary classification.\n",
    "\n",
    "Dataset includes: CGPA, IQ, Attendance, and Placement status.\"\"\""
   ]
  },
  {
   "cell_type": "code",
   "execution_count": 43,
   "id": "6ddae42a-63bc-4545-b278-b4b80fd981be",
   "metadata": {},
   "outputs": [],
   "source": [
    "#import the essential libraries\n",
    "import numpy as np\n",
    "import pandas as pd"
   ]
  },
  {
   "cell_type": "code",
   "execution_count": 45,
   "id": "07adbea8-5637-458e-ad79-8f103e218ee1",
   "metadata": {},
   "outputs": [],
   "source": [
    "#load the data\n",
    "df = pd.read_csv(r'C:\\Users\\ADMIN\\Downloads\\placement.csv')"
   ]
  },
  {
   "cell_type": "code",
   "execution_count": 47,
   "id": "8c50fab2-4058-47c9-b52d-cd1aa26a41a6",
   "metadata": {},
   "outputs": [
    {
     "data": {
      "text/html": [
       "<div>\n",
       "<style scoped>\n",
       "    .dataframe tbody tr th:only-of-type {\n",
       "        vertical-align: middle;\n",
       "    }\n",
       "\n",
       "    .dataframe tbody tr th {\n",
       "        vertical-align: top;\n",
       "    }\n",
       "\n",
       "    .dataframe thead th {\n",
       "        text-align: right;\n",
       "    }\n",
       "</style>\n",
       "<table border=\"1\" class=\"dataframe\">\n",
       "  <thead>\n",
       "    <tr style=\"text-align: right;\">\n",
       "      <th></th>\n",
       "      <th>Unnamed: 0</th>\n",
       "      <th>cgpa</th>\n",
       "      <th>iq</th>\n",
       "      <th>attendance</th>\n",
       "      <th>placement</th>\n",
       "    </tr>\n",
       "  </thead>\n",
       "  <tbody>\n",
       "    <tr>\n",
       "      <th>0</th>\n",
       "      <td>0</td>\n",
       "      <td>6.5</td>\n",
       "      <td>110</td>\n",
       "      <td>0.70</td>\n",
       "      <td>1</td>\n",
       "    </tr>\n",
       "    <tr>\n",
       "      <th>1</th>\n",
       "      <td>1</td>\n",
       "      <td>7.5</td>\n",
       "      <td>90</td>\n",
       "      <td>0.80</td>\n",
       "      <td>1</td>\n",
       "    </tr>\n",
       "    <tr>\n",
       "      <th>2</th>\n",
       "      <td>2</td>\n",
       "      <td>7.8</td>\n",
       "      <td>120</td>\n",
       "      <td>0.85</td>\n",
       "      <td>1</td>\n",
       "    </tr>\n",
       "    <tr>\n",
       "      <th>3</th>\n",
       "      <td>3</td>\n",
       "      <td>5.5</td>\n",
       "      <td>140</td>\n",
       "      <td>0.50</td>\n",
       "      <td>0</td>\n",
       "    </tr>\n",
       "    <tr>\n",
       "      <th>4</th>\n",
       "      <td>4</td>\n",
       "      <td>4.0</td>\n",
       "      <td>120</td>\n",
       "      <td>0.70</td>\n",
       "      <td>0</td>\n",
       "    </tr>\n",
       "  </tbody>\n",
       "</table>\n",
       "</div>"
      ],
      "text/plain": [
       "   Unnamed: 0  cgpa   iq  attendance  placement\n",
       "0           0   6.5  110        0.70          1\n",
       "1           1   7.5   90        0.80          1\n",
       "2           2   7.8  120        0.85          1\n",
       "3           3   5.5  140        0.50          0\n",
       "4           4   4.0  120        0.70          0"
      ]
     },
     "execution_count": 47,
     "metadata": {},
     "output_type": "execute_result"
    }
   ],
   "source": [
    "#Step-1 : Cleaning the data and Preprocessing\n",
    "df.head()"
   ]
  },
  {
   "cell_type": "code",
   "execution_count": 49,
   "id": "66cdb269-6b7d-4c33-ae5e-ec6a943c4a1a",
   "metadata": {},
   "outputs": [],
   "source": [
    "df = df.drop(columns=['Unnamed: 0'])"
   ]
  },
  {
   "cell_type": "code",
   "execution_count": 51,
   "id": "8daed16f-0828-4877-be2a-cfbc65e16ad4",
   "metadata": {},
   "outputs": [
    {
     "data": {
      "text/html": [
       "<div>\n",
       "<style scoped>\n",
       "    .dataframe tbody tr th:only-of-type {\n",
       "        vertical-align: middle;\n",
       "    }\n",
       "\n",
       "    .dataframe tbody tr th {\n",
       "        vertical-align: top;\n",
       "    }\n",
       "\n",
       "    .dataframe thead th {\n",
       "        text-align: right;\n",
       "    }\n",
       "</style>\n",
       "<table border=\"1\" class=\"dataframe\">\n",
       "  <thead>\n",
       "    <tr style=\"text-align: right;\">\n",
       "      <th></th>\n",
       "      <th>cgpa</th>\n",
       "      <th>iq</th>\n",
       "      <th>attendance</th>\n",
       "      <th>placement</th>\n",
       "    </tr>\n",
       "  </thead>\n",
       "  <tbody>\n",
       "    <tr>\n",
       "      <th>0</th>\n",
       "      <td>6.5</td>\n",
       "      <td>110</td>\n",
       "      <td>0.70</td>\n",
       "      <td>1</td>\n",
       "    </tr>\n",
       "    <tr>\n",
       "      <th>1</th>\n",
       "      <td>7.5</td>\n",
       "      <td>90</td>\n",
       "      <td>0.80</td>\n",
       "      <td>1</td>\n",
       "    </tr>\n",
       "    <tr>\n",
       "      <th>2</th>\n",
       "      <td>7.8</td>\n",
       "      <td>120</td>\n",
       "      <td>0.85</td>\n",
       "      <td>1</td>\n",
       "    </tr>\n",
       "    <tr>\n",
       "      <th>3</th>\n",
       "      <td>5.5</td>\n",
       "      <td>140</td>\n",
       "      <td>0.50</td>\n",
       "      <td>0</td>\n",
       "    </tr>\n",
       "    <tr>\n",
       "      <th>4</th>\n",
       "      <td>4.0</td>\n",
       "      <td>120</td>\n",
       "      <td>0.70</td>\n",
       "      <td>0</td>\n",
       "    </tr>\n",
       "  </tbody>\n",
       "</table>\n",
       "</div>"
      ],
      "text/plain": [
       "   cgpa   iq  attendance  placement\n",
       "0   6.5  110        0.70          1\n",
       "1   7.5   90        0.80          1\n",
       "2   7.8  120        0.85          1\n",
       "3   5.5  140        0.50          0\n",
       "4   4.0  120        0.70          0"
      ]
     },
     "execution_count": 51,
     "metadata": {},
     "output_type": "execute_result"
    }
   ],
   "source": [
    "df.head()"
   ]
  },
  {
   "cell_type": "code",
   "execution_count": 53,
   "id": "7940a456-c08e-453c-a66c-d8331081b7ea",
   "metadata": {},
   "outputs": [
    {
     "name": "stdout",
     "output_type": "stream",
     "text": [
      "<class 'pandas.core.frame.DataFrame'>\n",
      "RangeIndex: 51 entries, 0 to 50\n",
      "Data columns (total 4 columns):\n",
      " #   Column      Non-Null Count  Dtype  \n",
      "---  ------      --------------  -----  \n",
      " 0   cgpa        51 non-null     float64\n",
      " 1   iq          51 non-null     int64  \n",
      " 2   attendance  51 non-null     float64\n",
      " 3   placement   51 non-null     int64  \n",
      "dtypes: float64(2), int64(2)\n",
      "memory usage: 1.7 KB\n"
     ]
    }
   ],
   "source": [
    "df.info()"
   ]
  },
  {
   "cell_type": "code",
   "execution_count": 55,
   "id": "f06e1d1e-4d4c-4912-9dbd-5a2b5c6b6527",
   "metadata": {},
   "outputs": [
    {
     "data": {
      "text/html": [
       "<div>\n",
       "<style scoped>\n",
       "    .dataframe tbody tr th:only-of-type {\n",
       "        vertical-align: middle;\n",
       "    }\n",
       "\n",
       "    .dataframe tbody tr th {\n",
       "        vertical-align: top;\n",
       "    }\n",
       "\n",
       "    .dataframe thead th {\n",
       "        text-align: right;\n",
       "    }\n",
       "</style>\n",
       "<table border=\"1\" class=\"dataframe\">\n",
       "  <thead>\n",
       "    <tr style=\"text-align: right;\">\n",
       "      <th></th>\n",
       "      <th>cgpa</th>\n",
       "      <th>iq</th>\n",
       "      <th>attendance</th>\n",
       "      <th>placement</th>\n",
       "    </tr>\n",
       "  </thead>\n",
       "  <tbody>\n",
       "    <tr>\n",
       "      <th>count</th>\n",
       "      <td>51.000000</td>\n",
       "      <td>51.000000</td>\n",
       "      <td>51.000000</td>\n",
       "      <td>51.000000</td>\n",
       "    </tr>\n",
       "    <tr>\n",
       "      <th>mean</th>\n",
       "      <td>5.750980</td>\n",
       "      <td>120.450980</td>\n",
       "      <td>0.574314</td>\n",
       "      <td>0.490196</td>\n",
       "    </tr>\n",
       "    <tr>\n",
       "      <th>std</th>\n",
       "      <td>1.801485</td>\n",
       "      <td>24.773626</td>\n",
       "      <td>0.200113</td>\n",
       "      <td>0.504878</td>\n",
       "    </tr>\n",
       "    <tr>\n",
       "      <th>min</th>\n",
       "      <td>2.100000</td>\n",
       "      <td>90.000000</td>\n",
       "      <td>0.120000</td>\n",
       "      <td>0.000000</td>\n",
       "    </tr>\n",
       "    <tr>\n",
       "      <th>25%</th>\n",
       "      <td>4.500000</td>\n",
       "      <td>99.500000</td>\n",
       "      <td>0.475000</td>\n",
       "      <td>0.000000</td>\n",
       "    </tr>\n",
       "    <tr>\n",
       "      <th>50%</th>\n",
       "      <td>5.600000</td>\n",
       "      <td>116.000000</td>\n",
       "      <td>0.600000</td>\n",
       "      <td>0.000000</td>\n",
       "    </tr>\n",
       "    <tr>\n",
       "      <th>75%</th>\n",
       "      <td>6.600000</td>\n",
       "      <td>137.500000</td>\n",
       "      <td>0.700000</td>\n",
       "      <td>1.000000</td>\n",
       "    </tr>\n",
       "    <tr>\n",
       "      <th>max</th>\n",
       "      <td>9.900000</td>\n",
       "      <td>175.000000</td>\n",
       "      <td>0.950000</td>\n",
       "      <td>1.000000</td>\n",
       "    </tr>\n",
       "  </tbody>\n",
       "</table>\n",
       "</div>"
      ],
      "text/plain": [
       "            cgpa          iq  attendance  placement\n",
       "count  51.000000   51.000000   51.000000  51.000000\n",
       "mean    5.750980  120.450980    0.574314   0.490196\n",
       "std     1.801485   24.773626    0.200113   0.504878\n",
       "min     2.100000   90.000000    0.120000   0.000000\n",
       "25%     4.500000   99.500000    0.475000   0.000000\n",
       "50%     5.600000  116.000000    0.600000   0.000000\n",
       "75%     6.600000  137.500000    0.700000   1.000000\n",
       "max     9.900000  175.000000    0.950000   1.000000"
      ]
     },
     "execution_count": 55,
     "metadata": {},
     "output_type": "execute_result"
    }
   ],
   "source": [
    "df.describe()"
   ]
  },
  {
   "cell_type": "code",
   "execution_count": 57,
   "id": "977dd2f5-2397-45a4-9ce9-5da69243e352",
   "metadata": {},
   "outputs": [
    {
     "data": {
      "text/plain": [
       "0"
      ]
     },
     "execution_count": 57,
     "metadata": {},
     "output_type": "execute_result"
    }
   ],
   "source": [
    "df.duplicated().sum()"
   ]
  },
  {
   "cell_type": "code",
   "execution_count": 59,
   "id": "f70d7d5a-3ab2-4996-b213-10e7f997ce0c",
   "metadata": {},
   "outputs": [],
   "source": [
    "df.drop_duplicates(inplace=True)"
   ]
  },
  {
   "cell_type": "code",
   "execution_count": 61,
   "id": "2380be2f-b79e-4634-ac4f-c7c593acc527",
   "metadata": {},
   "outputs": [],
   "source": [
    "# Create synthetic data for \"low IQ, not placed\" scenario\n",
    "synthetic_data_low_iq = {\n",
    "    'cgpa': [7.0, 8.0, 9.0, 7.5, 8.5, 6.0, 7.2, 8.8, 9.1, 6.5], \n",
    "    'iq': [10, 25, 40, 55, 65, 15, 20, 60, 30, 50],\n",
    "    'attendance': np.random.uniform(0.6, 0.9, 10),\n",
    "    'placement': [0] * 10 \n",
    "}\n",
    "df_synthetic_low_iq = pd.DataFrame(synthetic_data_low_iq)\n",
    "\n",
    "# Create synthetic data for \"Very low CGPA, not placed\" scenario \n",
    "synthetic_data_low_cgpa = {\n",
    "    'cgpa': [0.5, 3.0, 1.5, 2.0, 1.8],\n",
    "    'iq': np.random.randint(90, 150, 5,),\n",
    "    'attendance': np.random.uniform(0.5, 0.9, 5),\n",
    "    'placement': [0] * 5\n",
    "}\n"
   ]
  },
  {
   "cell_type": "code",
   "execution_count": 63,
   "id": "d827ca0a-a365-4f23-93dc-f89666c707c2",
   "metadata": {},
   "outputs": [],
   "source": [
    "df_synthetic_low_cgpa = pd.DataFrame(synthetic_data_low_cgpa)"
   ]
  },
  {
   "cell_type": "code",
   "execution_count": 65,
   "id": "e72f183a-1c51-439c-a268-274369e89222",
   "metadata": {},
   "outputs": [
    {
     "name": "stdout",
     "output_type": "stream",
     "text": [
      "Index(['cgpa', 'iq', 'attendance', 'placement'], dtype='object')\n"
     ]
    }
   ],
   "source": [
    "print(df.columns)"
   ]
  },
  {
   "cell_type": "code",
   "execution_count": 67,
   "id": "703388d7-cfc3-4cfb-addd-eeb481ffe62a",
   "metadata": {},
   "outputs": [
    {
     "name": "stdout",
     "output_type": "stream",
     "text": [
      "            cgpa          iq  attendance  placement\n",
      "count  66.000000   66.000000   66.000000  66.000000\n",
      "mean    5.753030  107.287879    0.606984   0.378788\n",
      "std     2.134639   37.995451    0.190872   0.488802\n",
      "min     0.500000   10.000000    0.120000   0.000000\n",
      "25%     4.500000   92.250000    0.505613   0.000000\n",
      "50%     5.750000  110.000000    0.610209   0.000000\n",
      "75%     7.425000  130.000000    0.750000   1.000000\n",
      "max     9.900000  175.000000    0.950000   1.000000\n",
      "    cgpa  iq  attendance  placement\n",
      "51   7.0  10    0.695550          0\n",
      "52   8.0  25    0.809579          0\n",
      "53   9.0  40    0.771173          0\n",
      "54   7.5  55    0.819503          0\n",
      "55   8.5  65    0.610418          0\n",
      "56   6.0  15    0.699521          0\n",
      "57   7.2  20    0.693152          0\n",
      "58   8.8  60    0.886340          0\n",
      "59   9.1  30    0.756039          0\n",
      "60   6.5  50    0.809772          0\n"
     ]
    }
   ],
   "source": [
    "# Concatenate with your original (cleaned) DataFrame\n",
    "df_augmented = pd.concat([df, df_synthetic_low_iq, df_synthetic_low_cgpa], ignore_index=True)\n",
    "\n",
    "print(df_augmented.describe())\n",
    "\n",
    "# Check your new low IQ entries\n",
    "print(df_augmented[df_augmented['iq'] < 90]) "
   ]
  },
  {
   "cell_type": "code",
   "execution_count": 69,
   "id": "4001c28f-e671-43f1-baab-be788f05c03f",
   "metadata": {},
   "outputs": [
    {
     "data": {
      "image/png": "[encoded data removed]",
      "text/plain": [
       "<Figure size 1200x800 with 1 Axes>"
      ]
     },
     "metadata": {},
     "output_type": "display_data"
    }
   ],
   "source": [
    "import matplotlib.pyplot as plt\n",
    "import seaborn as sns\n",
    "\n",
    "plt.figure(figsize=(12,8))\n",
    "\n",
    "sns.scatterplot(\n",
    "                data=df_augmented,\n",
    "                x='cgpa',\n",
    "                y='iq',\n",
    "                hue='placement', #colour based on placed or not (0 or 1)\n",
    "                size='attendance', #size based on attendance\n",
    "                sizes=(50,500), #Range of dot sizes\n",
    "                style='placement', #Symbol for placed or not\n",
    "                palette='viridis', #color palatte\n",
    "                alpha=0.7 #Transparency for overlapping points\n",
    "               )\n",
    "\n",
    "plt.title('Student Placement Record')\n",
    "plt.xlabel('X-Axis : CGPA', fontsize=14)\n",
    "plt.ylabel('Y-Axis : IQ', fontsize=14)\n",
    "plt.xticks(fontsize=10)\n",
    "plt.yticks(fontsize=10)\n",
    "plt.grid(True, linestyle='--', alpha=0.6)\n",
    "\n",
    "#Customizing the legend for clarity\n",
    "handles, labels = plt.gca().get_legend_handles_labels()\n",
    "filtered_labels = []\n",
    "filtered_handles = []\n",
    "for h, l in zip(handles, labels):\n",
    "    if l not in filtered_labels:\n",
    "        filtered_labels.append(l)\n",
    "        filtered_handles.append(h)\n",
    "\n",
    "plt.legend(filtered_handles, filtered_labels, title=\"Placement & Attendance\",\n",
    "           bbox_to_anchor=(1.05, 1), loc='upper left', borderaxespad=0.)\n",
    "\n",
    "plt.tight_layout()\n",
    "plt.show()"
   ]
  },
  {
   "cell_type": "code",
   "execution_count": 70,
   "id": "cf3f8f25-98fa-4930-88e0-51eb6737b842",
   "metadata": {},
   "outputs": [
    {
     "name": "stdout",
     "output_type": "stream",
     "text": [
      "--- Original DataFrame Shapes ---\n",
      "x (features) shape: (66, 3)\n",
      "y (labels) shape: (66,)\n",
      "\n",
      "--- Shapes of Training and Testing Sets ---\n",
      "x_train (training features) shape: (52, 3)\n",
      "y_train (training labels) shape: (52,)\n",
      "x_test (testing features) shape: (14, 3)\n",
      "y_test (testing labels) shape: (14,)\n",
      "\n",
      "--- Distribution of Placement in Splits (Check for Stratification) ---\n",
      "y_train value counts:\n",
      "placement\n",
      "0    0.615385\n",
      "1    0.384615\n",
      "Name: proportion, dtype: float64\n",
      "\n",
      "y_test value counts:\n",
      "placement\n",
      "0    0.642857\n",
      "1    0.357143\n",
      "Name: proportion, dtype: float64\n"
     ]
    }
   ],
   "source": [
    "#Step-2 : Splitting the data into training and testing sets\n",
    "from sklearn.model_selection import train_test_split\n",
    "\n",
    "# with 'cgpa', 'iq', 'attendance' as features and 'placement' as the label.\n",
    "\n",
    "# 1. Separate features (x) and label (y)\n",
    "x = df_augmented[['cgpa', 'iq', 'attendance']]\n",
    "y = df_augmented['placement']\n",
    "\n",
    "print(\"--- Original DataFrame Shapes ---\")\n",
    "print(f\"x (features) shape: {x.shape}\")\n",
    "print(f\"y (labels) shape: {y.shape}\")\n",
    "\n",
    "# random_state=42 ensures we get the same split every time we run the code\n",
    "# stratify=y keeps the class distribution (e.g., placed vs. not placed) balanced in both sets\n",
    "\n",
    "x_train, x_test, y_train, y_test = train_test_split(x, y, test_size=0.2, random_state=42, stratify=y)\n",
    "\n",
    "print(\"\\n--- Shapes of Training and Testing Sets ---\")\n",
    "print(f\"x_train (training features) shape: {x_train.shape}\")\n",
    "print(f\"y_train (training labels) shape: {y_train.shape}\")\n",
    "print(f\"x_test (testing features) shape: {x_test.shape}\")\n",
    "print(f\"y_test (testing labels) shape: {y_test.shape}\")\n",
    "\n",
    "print(\"\\n--- Distribution of Placement in Splits (Check for Stratification) ---\")\n",
    "print(\"y_train value counts:\")\n",
    "print(y_train.value_counts(normalize=True)) # normalize=True to see proportions\n",
    "print(\"\\ny_test value counts:\")\n",
    "print(y_test.value_counts(normalize=True))"
   ]
  },
  {
   "cell_type": "code",
   "execution_count": 71,
   "id": "1dc1b716-c03b-4d87-866f-e5e976745dc2",
   "metadata": {},
   "outputs": [
    {
     "name": "stdout",
     "output_type": "stream",
     "text": [
      "\n",
      "--- Statistics of Scaled Training Data (x_train_scaled_df) ---\n",
      "               cgpa            iq    attendance\n",
      "count  5.200000e+01  5.200000e+01  5.200000e+01\n",
      "mean  -2.220446e-16  1.024821e-16  1.067522e-16\n",
      "std    1.009756e+00  1.009756e+00  1.009756e+00\n",
      "min   -2.547761e+00 -2.570182e+00 -2.713625e+00\n",
      "25%   -6.087407e-01 -3.057485e-01 -5.235356e-01\n",
      "50%   -5.127218e-02  1.526111e-01 -8.250202e-03\n",
      "75%    7.364550e-01  7.135885e-01  6.267794e-01\n",
      "max    2.008937e+00  1.808179e+00  1.866996e+00\n",
      "\n",
      "--- Statistics of Scaled Testing Data (x_test_scaled_df) ---\n",
      "            cgpa         iq  attendance\n",
      "count  14.000000  14.000000   14.000000\n",
      "mean   -0.006259   0.434077   -0.122795\n",
      "std     1.163523   1.115967    1.239099\n",
      "min    -2.063006  -1.749239   -2.548060\n",
      "25%    -0.608741  -0.298907   -0.906211\n",
      "50%     0.360770   0.576765    0.073380\n",
      "75%     0.918238   1.171948    0.850868\n",
      "max     1.572658   1.945002    1.515668\n",
      "\n",
      "Features successfully scaled!\n"
     ]
    }
   ],
   "source": [
    "#Step-3 : Scaling the training and testing datasets\n",
    "from sklearn.preprocessing import StandardScaler\n",
    "\n",
    "# 1. Create object of StandardScaler\n",
    "scaler = StandardScaler()\n",
    "\n",
    "# 2. Fit the scaler on the training data ONLY\n",
    "# The scaler learns the mean and standard deviation for each feature from x_train\n",
    "scaler.fit(x_train)\n",
    "\n",
    "# 3. Transform both the training and testing data using the fitted scaler\n",
    "# This applies the learned mean and standard deviation to both datasets\n",
    "x_train_scaled = scaler.transform(x_train)\n",
    "x_test_scaled = scaler.transform(x_test)\n",
    "\n",
    "# Convert the scaled NumPy arrays back to DataFrames for easier inspection\n",
    "x_train_scaled_df = pd.DataFrame(x_train_scaled, columns=x_train.columns, index=x_train.index)\n",
    "x_test_scaled_df = pd.DataFrame(x_test_scaled, columns=x_test.columns, index=x_test.index)\n",
    "\n",
    "\n",
    "print(\"\\n--- Statistics of Scaled Training Data (x_train_scaled_df) ---\")\n",
    "print(x_train_scaled_df.describe())\n",
    "\n",
    "print(\"\\n--- Statistics of Scaled Testing Data (x_test_scaled_df) ---\")\n",
    "print(x_test_scaled_df.describe())\n",
    "\n",
    "print(\"\\nFeatures successfully scaled!\")"
   ]
  },
  {
   "cell_type": "code",
   "execution_count": 75,
   "id": "177f24cf-5923-4dec-afb3-8fccc4ea0323",
   "metadata": {},
   "outputs": [
    {
     "name": "stdout",
     "output_type": "stream",
     "text": [
      "--- Logistic Regression Classifier Evaluation ---\n",
      "Accuracy: 0.86\n",
      "\n",
      "Classification Report:\n",
      "              precision    recall  f1-score   support\n",
      "\n",
      "           0       1.00      0.78      0.88         9\n",
      "           1       0.71      1.00      0.83         5\n",
      "\n",
      "    accuracy                           0.86        14\n",
      "   macro avg       0.86      0.89      0.85        14\n",
      "weighted avg       0.90      0.86      0.86        14\n",
      "\n",
      "              precision    recall  f1-score   support\n",
      "\n",
      "           0       1.00      0.78      0.88         9\n",
      "           1       0.71      1.00      0.83         5\n",
      "\n",
      "    accuracy                           0.86        14\n",
      "   macro avg       0.86      0.89      0.85        14\n",
      "weighted avg       0.90      0.86      0.86        14\n",
      "\n",
      "\n",
      "Confusion Matrix:\n",
      "[[7 2]\n",
      " [0 5]]\n",
      "\n",
      "Logistic Regression Coefficients (after scaling):\n",
      "      feature  coefficient\n",
      "1          iq     2.093105\n",
      "0        cgpa     1.420198\n",
      "2  attendance     1.145629\n"
     ]
    }
   ],
   "source": [
    "#Step-4 : Use Logistic Regression to train the model\n",
    "from sklearn.linear_model import LogisticRegression\n",
    "from sklearn.metrics import accuracy_score, classification_report, confusion_matrix\n",
    "\n",
    "# 1. Initialize the Logistic Regression model\n",
    "# random_state: Makes sure we get the same results every time we run the code\n",
    "# solver='liblinear': A good choice for small datasets and yes/no (binary) problems\n",
    "# class_weight='balanced': Helps if one class has fewer examples than the other\n",
    "LR_model = LogisticRegression(random_state=42, solver='liblinear', class_weight='balanced')\n",
    "\n",
    "# 2. Train the model\n",
    "LR_model.fit(x_train_scaled, y_train)\n",
    "\n",
    "# 3. Make predictions on the test set\n",
    "y_pred_LR = LR_model.predict(x_test_scaled)\n",
    "\n",
    "# Step-5 : Evaluate the model\n",
    "print(\"--- Logistic Regression Classifier Evaluation ---\")\n",
    "print(f\"Accuracy: {accuracy_score(y_test, y_pred_LR):.2f}\")\n",
    "print(\"\\nClassification Report:\")\n",
    "print(classification_report(y_test, y_pred_LR))\n",
    "print(classification_report(y_test, y_pred_LR))\n",
    "print(\"\\nConfusion Matrix:\")\n",
    "print(confusion_matrix(y_test, y_pred_LR))\n",
    "\n",
    "# Interpret coefficients\n",
    "print(\"\\nLogistic Regression Coefficients (after scaling):\")\n",
    "# Convert coefficients to a DataFrame for better readability\n",
    "coefficients_df = pd.DataFrame({\n",
    "    'feature': x_train.columns,\n",
    "    'coefficient': LR_model.coef_[0] # For binary classification, coef_ is a 2D array, we need the first row\n",
    "})\n",
    "coefficients_df = coefficients_df.sort_values('coefficient', ascending=False)\n",
    "print(coefficients_df)\n",
    "# Higher positive coefficient means feature increases log-odds of being 1 (placed)\n",
    "# Higher negative coefficient means feature decreases log-odds of being 1 (placed)"
   ]
  },
  {
   "cell_type": "code",
   "execution_count": 77,
   "id": "9afe9285-bfa7-4b03-89af-c80735ac1c50",
   "metadata": {},
   "outputs": [
    {
     "name": "stdout",
     "output_type": "stream",
     "text": [
      "Model and scaler saved successfully!\n"
     ]
    }
   ],
   "source": [
    "import joblib\n",
    "\n",
    "# Save the trained model\n",
    "joblib.dump(LR_model, 'placement_model.pkl')\n",
    "\n",
    "# Save the fitted scaler (this is crucial for new incoming data)\n",
    "joblib.dump(scaler, 'scaler.pkl')\n",
    "\n",
    "print(\"Model and scaler saved successfully!\")"
   ]
  },
  {
   "cell_type": "code",
   "execution_count": 79,
   "id": "018a70a2-3c59-48ec-ae11-c8a5a855adaa",
   "metadata": {},
   "outputs": [
    {
     "name": "stdout",
     "output_type": "stream",
     "text": [
      "Placement Prediction (0 = Not Placed, 1 = Placed) : [1]\n"
     ]
    }
   ],
   "source": [
    "#Step-6 : Testing model on new input\n",
    "\n",
    "sample_input = [[8.5,126,0.85]]\n",
    "\n",
    "#Make Prediction\n",
    "prediction = LR_model.predict(sample_input)\n",
    "\n",
    "#Show Result\n",
    "print(\"Placement Prediction (0 = Not Placed, 1 = Placed) :\", prediction)"
   ]
  }
 ],
 "metadata": {
  "kernelspec": {
   "display_name": "Python [conda env:base] *",
   "language": "python",
   "name": "conda-base-py"
  },
  "language_info": {
   "codemirror_mode": {
    "name": "ipython",
    "version": 3
   },
   "file_extension": ".py",
   "mimetype": "text/x-python",
   "name": "python",
   "nbconvert_exporter": "python",
   "pygments_lexer": "ipython3",
   "version": "3.12.7"
  }
 },
 "nbformat": 4,
 "nbformat_minor": 5
}
